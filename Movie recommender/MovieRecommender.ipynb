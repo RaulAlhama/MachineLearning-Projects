{
 "cells": [
  {
   "cell_type": "markdown",
   "id": "8e5c8532",
   "metadata": {},
   "source": [
    "# Movie Recommender with NLP\n",
    "\n",
    "<img src=\"Netflix.jpg\" style=\"width:80%;\">\n",
    "\n",
    "We are planning to develop a movie recommendation system that, when given a movie, will generate a list of similar movies. To accomplish this, we will proceed with the following steps:\n",
    "\n",
    "1. **Load the dataSet with contains a lot of movies.**\n",
    "\n",
    "2. **Text preprocessing: Preprocess the movie descriptions.**\n",
    "\n",
    "3. **Generate TF-IDF vectors for the general descriptions.**\n",
    "\n",
    "4. **Generate the cosine similarity matrix: This matrix contains pairwise similarity scores for each movie with all others.**\n"
   ]
  },
  {
   "cell_type": "markdown",
   "id": "9ab7cd92",
   "metadata": {},
   "source": [
    "## 1. Load the dataSet from Wikipedia\n",
    "\n",
    "We are going to import the dataset using read_csv() from pandas."
   ]
  },
  {
   "cell_type": "code",
   "execution_count": 1,
   "id": "80d023ba",
   "metadata": {},
   "outputs": [
    {
     "data": {
      "text/html": [
       "<div>\n",
       "<style scoped>\n",
       "    .dataframe tbody tr th:only-of-type {\n",
       "        vertical-align: middle;\n",
       "    }\n",
       "\n",
       "    .dataframe tbody tr th {\n",
       "        vertical-align: top;\n",
       "    }\n",
       "\n",
       "    .dataframe thead th {\n",
       "        text-align: right;\n",
       "    }\n",
       "</style>\n",
       "<table border=\"1\" class=\"dataframe\">\n",
       "  <thead>\n",
       "    <tr style=\"text-align: right;\">\n",
       "      <th></th>\n",
       "      <th>Release Year</th>\n",
       "      <th>Title</th>\n",
       "      <th>Origin/Ethnicity</th>\n",
       "      <th>Director</th>\n",
       "      <th>Cast</th>\n",
       "      <th>Genre</th>\n",
       "      <th>Wiki Page</th>\n",
       "      <th>Plot</th>\n",
       "    </tr>\n",
       "  </thead>\n",
       "  <tbody>\n",
       "    <tr>\n",
       "      <th>0</th>\n",
       "      <td>1901</td>\n",
       "      <td>Kansas Saloon Smashers</td>\n",
       "      <td>American</td>\n",
       "      <td>Unknown</td>\n",
       "      <td>NaN</td>\n",
       "      <td>unknown</td>\n",
       "      <td>https://en.wikipedia.org/wiki/Kansas_Saloon_Sm...</td>\n",
       "      <td>A bartender is working at a saloon, serving dr...</td>\n",
       "    </tr>\n",
       "    <tr>\n",
       "      <th>1</th>\n",
       "      <td>1901</td>\n",
       "      <td>Love by the Light of the Moon</td>\n",
       "      <td>American</td>\n",
       "      <td>Unknown</td>\n",
       "      <td>NaN</td>\n",
       "      <td>unknown</td>\n",
       "      <td>https://en.wikipedia.org/wiki/Love_by_the_Ligh...</td>\n",
       "      <td>The moon, painted with a smiling face hangs ov...</td>\n",
       "    </tr>\n",
       "    <tr>\n",
       "      <th>2</th>\n",
       "      <td>1901</td>\n",
       "      <td>The Martyred Presidents</td>\n",
       "      <td>American</td>\n",
       "      <td>Unknown</td>\n",
       "      <td>NaN</td>\n",
       "      <td>unknown</td>\n",
       "      <td>https://en.wikipedia.org/wiki/The_Martyred_Pre...</td>\n",
       "      <td>The film, just over a minute long, is composed...</td>\n",
       "    </tr>\n",
       "    <tr>\n",
       "      <th>3</th>\n",
       "      <td>1901</td>\n",
       "      <td>Terrible Teddy, the Grizzly King</td>\n",
       "      <td>American</td>\n",
       "      <td>Unknown</td>\n",
       "      <td>NaN</td>\n",
       "      <td>unknown</td>\n",
       "      <td>https://en.wikipedia.org/wiki/Terrible_Teddy,_...</td>\n",
       "      <td>Lasting just 61 seconds and consisting of two ...</td>\n",
       "    </tr>\n",
       "    <tr>\n",
       "      <th>4</th>\n",
       "      <td>1902</td>\n",
       "      <td>Jack and the Beanstalk</td>\n",
       "      <td>American</td>\n",
       "      <td>George S. Fleming, Edwin S. Porter</td>\n",
       "      <td>NaN</td>\n",
       "      <td>unknown</td>\n",
       "      <td>https://en.wikipedia.org/wiki/Jack_and_the_Bea...</td>\n",
       "      <td>The earliest known adaptation of the classic f...</td>\n",
       "    </tr>\n",
       "  </tbody>\n",
       "</table>\n",
       "</div>"
      ],
      "text/plain": [
       "   Release Year                             Title Origin/Ethnicity   \n",
       "0          1901            Kansas Saloon Smashers         American  \\\n",
       "1          1901     Love by the Light of the Moon         American   \n",
       "2          1901           The Martyred Presidents         American   \n",
       "3          1901  Terrible Teddy, the Grizzly King         American   \n",
       "4          1902            Jack and the Beanstalk         American   \n",
       "\n",
       "                             Director Cast    Genre   \n",
       "0                             Unknown  NaN  unknown  \\\n",
       "1                             Unknown  NaN  unknown   \n",
       "2                             Unknown  NaN  unknown   \n",
       "3                             Unknown  NaN  unknown   \n",
       "4  George S. Fleming, Edwin S. Porter  NaN  unknown   \n",
       "\n",
       "                                           Wiki Page   \n",
       "0  https://en.wikipedia.org/wiki/Kansas_Saloon_Sm...  \\\n",
       "1  https://en.wikipedia.org/wiki/Love_by_the_Ligh...   \n",
       "2  https://en.wikipedia.org/wiki/The_Martyred_Pre...   \n",
       "3  https://en.wikipedia.org/wiki/Terrible_Teddy,_...   \n",
       "4  https://en.wikipedia.org/wiki/Jack_and_the_Bea...   \n",
       "\n",
       "                                                Plot  \n",
       "0  A bartender is working at a saloon, serving dr...  \n",
       "1  The moon, painted with a smiling face hangs ov...  \n",
       "2  The film, just over a minute long, is composed...  \n",
       "3  Lasting just 61 seconds and consisting of two ...  \n",
       "4  The earliest known adaptation of the classic f...  "
      ]
     },
     "execution_count": 1,
     "metadata": {},
     "output_type": "execute_result"
    }
   ],
   "source": [
    "import pandas as pd\n",
    "df = pd.read_csv(\"wiki_movie_plots_deduped.csv\")\n",
    "df.head()"
   ]
  },
  {
   "cell_type": "markdown",
   "id": "4dadd276",
   "metadata": {},
   "source": [
    "We will only use two features: **'Plot'**, which contains a brief description of the movie, and **'Title'** which will be our target."
   ]
  },
  {
   "cell_type": "markdown",
   "id": "7b5ebfcd",
   "metadata": {},
   "source": [
    "As I mentioned at the beginning, we will employ **TF-IDF** for preprocessing the movie plots. **TF-IDF** is a numerical statistic that signifies the significance of a word or term within a document concerning a collection of documents. It is commonly utilized in information retrieval and text mining."
   ]
  },
  {
   "cell_type": "code",
   "execution_count": 2,
   "id": "c953d6fe",
   "metadata": {},
   "outputs": [],
   "source": [
    "from sklearn.feature_extraction.text import TfidfVectorizer\n",
    "\n",
    "vectorizer = TfidfVectorizer(stop_words='english')\n",
    "tfidf_matrix = vectorizer.fit_transform(df[\"Plot\"])\n",
    "#print(tfidf_matrix.toarray())"
   ]
  },
  {
   "cell_type": "markdown",
   "id": "8bb86aad",
   "metadata": {},
   "source": [
    "**stop_words='english'**: This is an optional parameter that you can pass to the TfidfVectorizer constructor. It specifies a list of common English stopwords that should be ignored during the vectorization process. Stopwords are words like \"the,\" \"and,\" \"in,\" \"of,\" etc., which are typically considered to be of low significance in many NLP tasks because they appear frequently in most texts and don't carry much unique information."
   ]
  },
  {
   "cell_type": "markdown",
   "id": "e8f102ff",
   "metadata": {},
   "source": [
    "While working with TF-IDF vectors, we can utilize the **linear_kernel** function, which computes the pairwise dot product of each vector with every other vector."
   ]
  },
  {
   "cell_type": "code",
   "execution_count": 3,
   "id": "06a5e031",
   "metadata": {},
   "outputs": [
    {
     "name": "stdout",
     "output_type": "stream",
     "text": [
      "Time taken: 44 seconds\n"
     ]
    }
   ],
   "source": [
    "from sklearn.metrics.pairwise import linear_kernel\n",
    "import time\n",
    "# Record start time\n",
    "start = time.time()\n",
    "cosine_sim = linear_kernel(tfidf_matrix, tfidf_matrix)\n",
    "# Print time taken\n",
    "print(\"Time taken: %s seconds\" %round((time.time() - start)))"
   ]
  },
  {
   "cell_type": "code",
   "execution_count": 4,
   "id": "272155b8",
   "metadata": {
    "scrolled": true
   },
   "outputs": [
    {
     "name": "stdout",
     "output_type": "stream",
     "text": [
      "[[1.         0.03075243 0.00770344 ... 0.         0.0079289  0.        ]\n",
      " [0.03075243 1.         0.00809798 ... 0.         0.00998054 0.0178333 ]\n",
      " [0.00770344 0.00809798 1.         ... 0.00679746 0.00662916 0.        ]\n",
      " ...\n",
      " [0.         0.         0.00679746 ... 1.         0.0111069  0.00546489]\n",
      " [0.0079289  0.00998054 0.00662916 ... 0.0111069  1.         0.00338896]\n",
      " [0.         0.0178333  0.         ... 0.00546489 0.00338896 1.        ]]\n",
      "(34886, 34886)\n"
     ]
    }
   ],
   "source": [
    "print(cosine_sim)\n",
    "print(cosine_sim.shape)"
   ]
  },
  {
   "cell_type": "markdown",
   "id": "a6952d68",
   "metadata": {},
   "source": [
    "The calculation of the cosine similarity matrix took 44 seconds."
   ]
  },
  {
   "cell_type": "markdown",
   "id": "b4b83692",
   "metadata": {},
   "source": [
    "**The recommender function**\n",
    "1. The function takes a movie title, the **cosine similarity matrix**, and an indices series as arguments. The indices series is a reverse mapping of movie titles to their indices in the original data frame.\n",
    "\n",
    "2. The function extracts pairwise cosine similarity scores of the given movie with all other movies.\n",
    "\n",
    "3. It then sorts the similarity scores in descending order.\n",
    "\n",
    "4. Finally, it generates the titles of movies corresponding to the highest similarity scores.\n",
    "\n",
    "5. The function disregards the highest similarity score (which is 1)."
   ]
  },
  {
   "cell_type": "code",
   "execution_count": 5,
   "id": "a0c16923",
   "metadata": {},
   "outputs": [],
   "source": [
    "# Generate mapping between titles and index\n",
    "indices = pd.Series(df.index, index=df['Title']).drop_duplicates()\n",
    "def get_recommendations(title, cosine_sim, indices):\n",
    "    # Get index of movie that matches title\n",
    "    idx = indices[title]\n",
    "    # Sort the movies based on the similarity scores\n",
    "    sim_scores = list(enumerate(cosine_sim[idx]))\n",
    "    sim_scores = sorted(sim_scores, key=lambda x: x[1], reverse=True)\n",
    "    # Get the scores for 10 most similar movies\n",
    "    sim_scores = sim_scores[1:11]\n",
    "    # Get the movie indices\n",
    "    movie_indices = [i[0] for i in sim_scores]\n",
    "    # Return the top 10 most similar movies\n",
    "    return df['Title'].iloc[movie_indices]"
   ]
  },
  {
   "cell_type": "markdown",
   "id": "fca15860",
   "metadata": {},
   "source": [
    "## Examples"
   ]
  },
  {
   "cell_type": "code",
   "execution_count": 6,
   "id": "f8069d54",
   "metadata": {},
   "outputs": [
    {
     "name": "stdout",
     "output_type": "stream",
     "text": [
      "21247           The Dark Knight Rises\n",
      "14600                   Batman Begins\n",
      "15411                 The Dark Knight\n",
      "20979                 The Dark Knight\n",
      "12917                Batman and Robin\n",
      "11121                          Batman\n",
      "8060                           Batman\n",
      "12371                  Batman Forever\n",
      "17182           The Lego Batman Movie\n",
      "11948    Batman: Mask of the Phantasm\n",
      "Name: Title, dtype: object\n"
     ]
    }
   ],
   "source": [
    "print(get_recommendations('The Dark Knight Rises', cosine_sim, indices))"
   ]
  },
  {
   "cell_type": "code",
   "execution_count": 11,
   "id": "0fcdd0b5",
   "metadata": {},
   "outputs": [
    {
     "name": "stdout",
     "output_type": "stream",
     "text": [
      "9513                                 The Lord of the Rings\n",
      "14303        The Lord of the Rings: The Return of the King\n",
      "9759                                The Return of the King\n",
      "14093                The Lord of the Rings: The Two Towers\n",
      "16549    Hobbit: The Desolation of Smaug, TheThe Hobbit...\n",
      "23814                           Four Sisters and a Wedding\n",
      "25362                                            Maa Kasam\n",
      "6848                                       My Gun Is Quick\n",
      "25114                                          Guest House\n",
      "23630                                                Coweb\n",
      "Name: Title, dtype: object\n"
     ]
    }
   ],
   "source": [
    "print(get_recommendations('The Lord of the Rings: The Fellowship of the Ring', cosine_sim, indices))"
   ]
  },
  {
   "cell_type": "code",
   "execution_count": null,
   "id": "5a7fd1b8",
   "metadata": {},
   "outputs": [],
   "source": []
  }
 ],
 "metadata": {
  "kernelspec": {
   "display_name": "Python 3 (ipykernel)",
   "language": "python",
   "name": "python3"
  },
  "language_info": {
   "codemirror_mode": {
    "name": "ipython",
    "version": 3
   },
   "file_extension": ".py",
   "mimetype": "text/x-python",
   "name": "python",
   "nbconvert_exporter": "python",
   "pygments_lexer": "ipython3",
   "version": "3.10.9"
  }
 },
 "nbformat": 4,
 "nbformat_minor": 5
}
